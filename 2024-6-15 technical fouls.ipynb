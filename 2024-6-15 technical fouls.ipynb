{
 "cells": [
  {
   "cell_type": "code",
   "execution_count": 4,
   "metadata": {},
   "outputs": [],
   "source": [
    "import pandas as pd\n",
    "import altair as alt\n",
    "\n",
    "# Create the DataFrame\n",
    "data = {\n",
    "    \"season\": [2024, 2023, 2022, 2021, 2020, 2019, 2018, 2017, 2016, 2015, 2014, 2013, 2012, 2011, 2010, 2009, 2008, 2007, 2006, 2005, 2004, 2003, 2002, 2001, 2000, 1999, 1998, 1997],\n",
    "    \"techs_called\": [51, 145, 147, 108, 67, 158, 163, 123, 123, 99, 92, 137, 110, 87, 72, 98, 112, 110, 118, 129, 62, 109, 121, 131, 110, 105, 73, 33],\n",
    "    \"games_in_season\": [75, 240, 216, 192, 132, 204, 204, 204, 204, 204, 204, 204, 204, 204, 204, 221, 238, 221, 238, 221, 221, 238, 256, 256, 256, 192, 150, 112],\n",
    "    \"avg_techs_per_game\": [0.68, 0.6041666667, 0.6805555556, 0.5625, 0.5075757576, 0.7745098039, 0.7990196078, 0.6029411765, 0.6029411765, 0.4852941176, 0.4509803922, 0.6715686275, 0.5392156863, 0.4264705882, 0.3529411765, 0.443438914, 0.4705882353, 0.4977375566, 0.4957983193, 0.5837104072, 0.2805429864, 0.4579831933, 0.47265625, 0.51171875, 0.4296875, 0.546875, 0.4866666667, 0.2946428571]\n",
    "}\n",
    "\n",
    "df = pd.DataFrame(data)"
   ]
  },
  {
   "cell_type": "code",
   "execution_count": 16,
   "metadata": {},
   "outputs": [
    {
     "data": {
      "text/html": [
       "\n",
       "<style>\n",
       "  #altair-viz-6516edcf8a2e437f9ac92d30b5780025.vega-embed {\n",
       "    width: 100%;\n",
       "    display: flex;\n",
       "  }\n",
       "\n",
       "  #altair-viz-6516edcf8a2e437f9ac92d30b5780025.vega-embed details,\n",
       "  #altair-viz-6516edcf8a2e437f9ac92d30b5780025.vega-embed details summary {\n",
       "    position: relative;\n",
       "  }\n",
       "</style>\n",
       "<div id=\"altair-viz-6516edcf8a2e437f9ac92d30b5780025\"></div>\n",
       "<script type=\"text/javascript\">\n",
       "  var VEGA_DEBUG = (typeof VEGA_DEBUG == \"undefined\") ? {} : VEGA_DEBUG;\n",
       "  (function(spec, embedOpt){\n",
       "    let outputDiv = document.currentScript.previousElementSibling;\n",
       "    if (outputDiv.id !== \"altair-viz-6516edcf8a2e437f9ac92d30b5780025\") {\n",
       "      outputDiv = document.getElementById(\"altair-viz-6516edcf8a2e437f9ac92d30b5780025\");\n",
       "    }\n",
       "    const paths = {\n",
       "      \"vega\": \"https://cdn.jsdelivr.net/npm/vega@5?noext\",\n",
       "      \"vega-lib\": \"https://cdn.jsdelivr.net/npm/vega-lib?noext\",\n",
       "      \"vega-lite\": \"https://cdn.jsdelivr.net/npm/vega-lite@5.8.0?noext\",\n",
       "      \"vega-embed\": \"https://cdn.jsdelivr.net/npm/vega-embed@6?noext\",\n",
       "    };\n",
       "\n",
       "    function maybeLoadScript(lib, version) {\n",
       "      var key = `${lib.replace(\"-\", \"\")}_version`;\n",
       "      return (VEGA_DEBUG[key] == version) ?\n",
       "        Promise.resolve(paths[lib]) :\n",
       "        new Promise(function(resolve, reject) {\n",
       "          var s = document.createElement('script');\n",
       "          document.getElementsByTagName(\"head\")[0].appendChild(s);\n",
       "          s.async = true;\n",
       "          s.onload = () => {\n",
       "            VEGA_DEBUG[key] = version;\n",
       "            return resolve(paths[lib]);\n",
       "          };\n",
       "          s.onerror = () => reject(`Error loading script: ${paths[lib]}`);\n",
       "          s.src = paths[lib];\n",
       "        });\n",
       "    }\n",
       "\n",
       "    function showError(err) {\n",
       "      outputDiv.innerHTML = `<div class=\"error\" style=\"color:red;\">${err}</div>`;\n",
       "      throw err;\n",
       "    }\n",
       "\n",
       "    function displayChart(vegaEmbed) {\n",
       "      vegaEmbed(outputDiv, spec, embedOpt)\n",
       "        .catch(err => showError(`Javascript Error: ${err.message}<br>This usually means there's a typo in your chart specification. See the javascript console for the full traceback.`));\n",
       "    }\n",
       "\n",
       "    if(typeof define === \"function\" && define.amd) {\n",
       "      requirejs.config({paths});\n",
       "      require([\"vega-embed\"], displayChart, err => showError(`Error loading script: ${err.message}`));\n",
       "    } else {\n",
       "      maybeLoadScript(\"vega\", \"5\")\n",
       "        .then(() => maybeLoadScript(\"vega-lite\", \"5.8.0\"))\n",
       "        .then(() => maybeLoadScript(\"vega-embed\", \"6\"))\n",
       "        .catch(showError)\n",
       "        .then(() => displayChart(vegaEmbed));\n",
       "    }\n",
       "  })({\"config\": {\"view\": {\"continuousWidth\": 300, \"continuousHeight\": 300}, \"background\": \"#FCEECB\"}, \"data\": {\"name\": \"data-c788e0bd896f5779be88a7ca906498c0\"}, \"mark\": {\"type\": \"line\", \"color\": \"#2A2529\", \"point\": true}, \"encoding\": {\"tooltip\": [{\"field\": \"season\", \"type\": \"quantitative\"}, {\"field\": \"avg_techs_per_game\", \"type\": \"quantitative\"}], \"x\": {\"axis\": {\"labelFontSize\": 12, \"titleFontSize\": 14}, \"field\": \"season\", \"title\": \"Season\", \"type\": \"ordinal\"}, \"y\": {\"axis\": {\"labelFontSize\": 12, \"titleFontSize\": 14}, \"field\": \"avg_techs_per_game\", \"title\": \"Average Techs per Game\", \"type\": \"quantitative\"}}, \"height\": 400, \"title\": \"WNBA Average Technical Fouls per Game\", \"width\": 800, \"$schema\": \"https://vega.github.io/schema/vega-lite/v5.8.0.json\", \"datasets\": {\"data-c788e0bd896f5779be88a7ca906498c0\": [{\"season\": 2024, \"techs_called\": 51, \"games_in_season\": 75, \"avg_techs_per_game\": 0.68}, {\"season\": 2023, \"techs_called\": 145, \"games_in_season\": 240, \"avg_techs_per_game\": 0.6041666667}, {\"season\": 2022, \"techs_called\": 147, \"games_in_season\": 216, \"avg_techs_per_game\": 0.6805555556}, {\"season\": 2021, \"techs_called\": 108, \"games_in_season\": 192, \"avg_techs_per_game\": 0.5625}, {\"season\": 2020, \"techs_called\": 67, \"games_in_season\": 132, \"avg_techs_per_game\": 0.5075757576}, {\"season\": 2019, \"techs_called\": 158, \"games_in_season\": 204, \"avg_techs_per_game\": 0.7745098039}, {\"season\": 2018, \"techs_called\": 163, \"games_in_season\": 204, \"avg_techs_per_game\": 0.7990196078}, {\"season\": 2017, \"techs_called\": 123, \"games_in_season\": 204, \"avg_techs_per_game\": 0.6029411765}, {\"season\": 2016, \"techs_called\": 123, \"games_in_season\": 204, \"avg_techs_per_game\": 0.6029411765}, {\"season\": 2015, \"techs_called\": 99, \"games_in_season\": 204, \"avg_techs_per_game\": 0.4852941176}, {\"season\": 2014, \"techs_called\": 92, \"games_in_season\": 204, \"avg_techs_per_game\": 0.4509803922}, {\"season\": 2013, \"techs_called\": 137, \"games_in_season\": 204, \"avg_techs_per_game\": 0.6715686275}, {\"season\": 2012, \"techs_called\": 110, \"games_in_season\": 204, \"avg_techs_per_game\": 0.5392156863}, {\"season\": 2011, \"techs_called\": 87, \"games_in_season\": 204, \"avg_techs_per_game\": 0.4264705882}, {\"season\": 2010, \"techs_called\": 72, \"games_in_season\": 204, \"avg_techs_per_game\": 0.3529411765}, {\"season\": 2009, \"techs_called\": 98, \"games_in_season\": 221, \"avg_techs_per_game\": 0.443438914}, {\"season\": 2008, \"techs_called\": 112, \"games_in_season\": 238, \"avg_techs_per_game\": 0.4705882353}, {\"season\": 2007, \"techs_called\": 110, \"games_in_season\": 221, \"avg_techs_per_game\": 0.4977375566}, {\"season\": 2006, \"techs_called\": 118, \"games_in_season\": 238, \"avg_techs_per_game\": 0.4957983193}, {\"season\": 2005, \"techs_called\": 129, \"games_in_season\": 221, \"avg_techs_per_game\": 0.5837104072}, {\"season\": 2004, \"techs_called\": 62, \"games_in_season\": 221, \"avg_techs_per_game\": 0.2805429864}, {\"season\": 2003, \"techs_called\": 109, \"games_in_season\": 238, \"avg_techs_per_game\": 0.4579831933}, {\"season\": 2002, \"techs_called\": 121, \"games_in_season\": 256, \"avg_techs_per_game\": 0.47265625}, {\"season\": 2001, \"techs_called\": 131, \"games_in_season\": 256, \"avg_techs_per_game\": 0.51171875}, {\"season\": 2000, \"techs_called\": 110, \"games_in_season\": 256, \"avg_techs_per_game\": 0.4296875}, {\"season\": 1999, \"techs_called\": 105, \"games_in_season\": 192, \"avg_techs_per_game\": 0.546875}, {\"season\": 1998, \"techs_called\": 73, \"games_in_season\": 150, \"avg_techs_per_game\": 0.4866666667}, {\"season\": 1997, \"techs_called\": 33, \"games_in_season\": 112, \"avg_techs_per_game\": 0.2946428571}]}}, {\"mode\": \"vega-lite\"});\n",
       "</script>"
      ],
      "text/plain": [
       "alt.Chart(...)"
      ]
     },
     "execution_count": 16,
     "metadata": {},
     "output_type": "execute_result"
    }
   ],
   "source": [
    "line_chart = alt.Chart(df).mark_line(point=True, color='#2A2529').encode(\n",
    "    x=alt.X('season:O', title='Season', axis=alt.Axis(labelFontSize=12, titleFontSize=14)),\n",
    "    y=alt.Y('avg_techs_per_game:Q', title='Average Techs per Game', axis=alt.Axis(labelFontSize=12, titleFontSize=14)),\n",
    "    tooltip=['season', 'avg_techs_per_game']\n",
    ").properties(\n",
    "    title='WNBA Average Technical Fouls per Game',\n",
    "    width=800,\n",
    "    height=400\n",
    ").configure(\n",
    "    background='#FCEECB'  # Setting the background color\n",
    ")\n",
    "\n",
    "# Bar chart for techs_called and games_in_season over the seasons\n",
    "bar_chart = alt.Chart(df).mark_bar().encode(\n",
    "    x=alt.X('season:O', title='Season', axis=alt.Axis(labelFontSize=12, titleFontSize=14)),\n",
    "    y=alt.Y('techs_called:Q', title='Technical Fouls Called', axis=alt.Axis(labelFontSize=12, titleFontSize=14)),\n",
    "    tooltip=['season', 'techs_called']\n",
    ").properties(\n",
    "    title='WNBA Total Technical Fouls per Season',\n",
    "    width=800,\n",
    "    height=400\n",
    ")\n",
    "\n",
    "line_chart "
   ]
  },
  {
   "cell_type": "code",
   "execution_count": null,
   "metadata": {},
   "outputs": [],
   "source": []
  }
 ],
 "metadata": {
  "kernelspec": {
   "display_name": "Python 3",
   "language": "python",
   "name": "python3"
  },
  "language_info": {
   "codemirror_mode": {
    "name": "ipython",
    "version": 3
   },
   "file_extension": ".py",
   "mimetype": "text/x-python",
   "name": "python",
   "nbconvert_exporter": "python",
   "pygments_lexer": "ipython3",
   "version": "3.7.4"
  }
 },
 "nbformat": 4,
 "nbformat_minor": 2
}
